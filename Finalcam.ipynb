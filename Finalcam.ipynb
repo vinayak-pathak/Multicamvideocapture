{
 "cells": [
  {
   "cell_type": "code",
   "execution_count": 1,
   "id": "cloudy-currency",
   "metadata": {},
   "outputs": [],
   "source": [
    "import cv2"
   ]
  },
  {
   "cell_type": "code",
   "execution_count": 2,
   "id": "loved-shirt",
   "metadata": {},
   "outputs": [
    {
     "name": "stdout",
     "output_type": "stream",
     "text": [
      "Hello\n"
     ]
    }
   ],
   "source": [
    "print(\"Hello\")"
   ]
  },
  {
   "cell_type": "code",
   "execution_count": 1,
   "id": "freelance-tamil",
   "metadata": {},
   "outputs": [],
   "source": [
    "import tkinter\n",
    "import cv2\n",
    "import PIL.Image, PIL.ImageTk\n",
    "import time \n",
    "\n",
    "class App:\n",
    "    def __init__(self, window, window_title, video_source_start, ncamlist):\n",
    "        self.window = window\n",
    "        self.window.title(window_title)\n",
    "        self.ncam = ncam\n",
    "        self.vid = {}\n",
    "        self.ret = {}\n",
    "        self.frame = {}\n",
    "        self.e = {}\n",
    "        self.video_source_start = video_source_start\n",
    "        self.photo = {}\n",
    "        self.imgtemp = {}\n",
    "        \n",
    "        #for i in range(0, video_source_start+ncam):\n",
    "            #self.video_source = video_source\n",
    "        # Add labels inside the software such that the camera takes input positions from the fields.\n",
    "        # 3x3 grid\n",
    "        col1 = [1, 2, 3, 1, 2, 3, 1, 2, 3] \n",
    "        row1 = [1, 1, 1, 3, 3, 3, 5, 5, 5] \n",
    "        row2 = [0, 0, 0, 2, 2, 2, 4, 4, 4]\n",
    "        colspan = [1, 1, 1, 1, 1, 1, 1, 1, 1]\n",
    "        for i in range(video_source_start, ncam):\n",
    "            self.e[str(i)] = tkinter.Entry(self.window, width = 35, borderwidth = 5)\n",
    "            self.e[str(i)].grid(row = row1[i] , column = col1[i], columnspan = colspan[i])\n",
    "            self.e[str(i)].insert(\"end\",i)\n",
    "            #self.e[str(i)].pack()\n",
    "        \n",
    "      # open video source (by default this will try to open the computer webcam)\n",
    "        for i in range(video_source_start, ncam):\n",
    "            self.vid[str(i)] = MyVideoCapture(i)\n",
    "        self.vid[''] = self.vid['0']  \n",
    "          \n",
    "      \n",
    "                \n",
    "      # Create a canvas that can fit the above video source size\n",
    "        #self.canvas = tkinter.Canvas(window, width = self.vid['0'].width, height = self.vid['0'].height)\n",
    "        self.canvas = tkinter.Canvas(window, width = 750, height = 750)\n",
    "        self.canvas.grid(row = 0, column = 0)\n",
    "        #self.canvas.pack()\n",
    "        \n",
    "       # Button that lets the user take a snapshot\n",
    "        self.btn_snapshot=tkinter.Button(window, text=\"Snapshot\", width=50, command=self.snapshot)\n",
    "        #self.btn_snapshot.pack(anchor=tkinter.CENTER, expand=True)\n",
    "        self.btn_snapshot.grid(row =6, column = 1, columnspan = 3 )\n",
    "       # After it is called once, the update method will be automatically called every delay milliseconds\n",
    "        self.delay = 15\n",
    "        self.update()\n",
    "        self.window.mainloop()\n",
    "\n",
    "    def snapshot(self):\n",
    "        # Get a frame from the video source\n",
    "        for i in range(self.video_source_start, self.video_source_start+self.ncam):\n",
    "            self.ret[str(i)], self.frame[str(i)] = self.vid[str(i)].get_frame()\n",
    "            \n",
    "        for i in range(self.video_source_start, self.video_source_start+self.ncam):\n",
    "            if self.ret[str(i)]:\n",
    "                cv2.imwrite(\"frame\"+str(i)+ time.strftime(\"%d-%m-%Y-%H-%M-%S\") + \".jpg\", cv2.cvtColor(self.frame[str(i)], cv2.COLOR_RGB2BGR))\n",
    "            \n",
    "\n",
    "    def update(self):\n",
    "        # Get a frame from the video source\n",
    "        \n",
    "        x = [0, 250, 500, 0, 250, 500, 0, 250, 500]\n",
    "        y = [0, 0, 0, 250, 250, 250, 500, 500, 500]\n",
    "        \n",
    "        for i in range(self.video_source_start,self.video_source_start+self.ncam):\n",
    "            self.ret[str(i)], self.frame[str(i)] = self.vid[self.e[str(i)].get()].get_frame()\n",
    "        imgtemp = {}\n",
    "        for i in range(self.video_source_start,self.video_source_start+self.ncam):\n",
    "            \n",
    "            if self.ret[str(i)]:\n",
    "                self.imgtemp[str(i)] = PIL.Image.fromarray(self.frame[str(i)])\n",
    "                self.imgtemp[str(i)] = self.imgtemp[str(i)].resize((250, 250), PIL.Image.ANTIALIAS)\n",
    "                self.photo[str(i)] = PIL.ImageTk.PhotoImage(image = self.imgtemp[str(i)])\n",
    "                #self.photo = self.photo.resize((250, 250), Image.ANTIALIAS)\n",
    "                self.canvas.create_image(x[i], y[i], image = self.photo[str(i)], anchor = tkinter.NW)\n",
    "        \n",
    "        self.window.after(self.delay, self.update)\n",
    " \n",
    " \n",
    "class MyVideoCapture:\n",
    "     def __init__(self, video_source):\n",
    "        # Open the video source\n",
    "        self.vid = cv2.VideoCapture(video_source)\n",
    "        if not self.vid.isOpened():\n",
    "             raise ValueError(\"Unable to open video source\", video_source)\n",
    " \n",
    "        # Get video source width and height\n",
    "        self.width = self.vid.get(cv2.CAP_PROP_FRAME_WIDTH)\n",
    "        self.height = self.vid.get(cv2.CAP_PROP_FRAME_HEIGHT)\n",
    " \n",
    "     def get_frame(self):\n",
    "        if self.vid.isOpened():\n",
    "            ret, frame = self.vid.read()\n",
    "            if ret:\n",
    "                # Return a boolean success flag and the current frame converted to BGR\n",
    "                return (ret, cv2.cvtColor(frame, cv2.COLOR_BGR2RGB))\n",
    "            else:\n",
    "                return (ret, None)\n",
    "        else:\n",
    "             return (ret, None)\n",
    " \n",
    "     # Release the video source when the object is destroyed\n",
    "     def __del__(self):\n",
    "        if self.vid.isOpened():\n",
    "            self.vid.release()\n",
    " \n",
    " # Create a window and pass it to the Application object"
   ]
  },
  {
   "cell_type": "code",
   "execution_count": 11,
   "id": "civil-fossil",
   "metadata": {},
   "outputs": [
    {
     "ename": "NameError",
     "evalue": "name 'ncam' is not defined",
     "output_type": "error",
     "traceback": [
      "\u001b[0;31m---------------------------------------------------------------------------\u001b[0m",
      "\u001b[0;31mNameError\u001b[0m                                 Traceback (most recent call last)",
      "\u001b[0;32m/tmp/ipykernel_189652/285031477.py\u001b[0m in \u001b[0;36m<module>\u001b[0;34m\u001b[0m\n\u001b[0;32m----> 1\u001b[0;31m \u001b[0mApp\u001b[0m\u001b[0;34m(\u001b[0m\u001b[0mtkinter\u001b[0m\u001b[0;34m.\u001b[0m\u001b[0mTk\u001b[0m\u001b[0;34m(\u001b[0m\u001b[0;34m)\u001b[0m\u001b[0;34m,\u001b[0m \u001b[0;34m\"Brain Cam\"\u001b[0m\u001b[0;34m,\u001b[0m\u001b[0;36m0\u001b[0m\u001b[0;34m,\u001b[0m\u001b[0;36m2\u001b[0m\u001b[0;34m)\u001b[0m\u001b[0;34m\u001b[0m\u001b[0;34m\u001b[0m\u001b[0m\n\u001b[0m",
      "\u001b[0;32m/tmp/ipykernel_189652/3284117327.py\u001b[0m in \u001b[0;36m__init__\u001b[0;34m(self, window, window_title, video_source_start, ncamlist)\u001b[0m\n\u001b[1;32m      8\u001b[0m         \u001b[0mself\u001b[0m\u001b[0;34m.\u001b[0m\u001b[0mwindow\u001b[0m \u001b[0;34m=\u001b[0m \u001b[0mwindow\u001b[0m\u001b[0;34m\u001b[0m\u001b[0;34m\u001b[0m\u001b[0m\n\u001b[1;32m      9\u001b[0m         \u001b[0mself\u001b[0m\u001b[0;34m.\u001b[0m\u001b[0mwindow\u001b[0m\u001b[0;34m.\u001b[0m\u001b[0mtitle\u001b[0m\u001b[0;34m(\u001b[0m\u001b[0mwindow_title\u001b[0m\u001b[0;34m)\u001b[0m\u001b[0;34m\u001b[0m\u001b[0;34m\u001b[0m\u001b[0m\n\u001b[0;32m---> 10\u001b[0;31m         \u001b[0mself\u001b[0m\u001b[0;34m.\u001b[0m\u001b[0mncam\u001b[0m \u001b[0;34m=\u001b[0m \u001b[0mncam\u001b[0m\u001b[0;34m\u001b[0m\u001b[0;34m\u001b[0m\u001b[0m\n\u001b[0m\u001b[1;32m     11\u001b[0m         \u001b[0mself\u001b[0m\u001b[0;34m.\u001b[0m\u001b[0mvid\u001b[0m \u001b[0;34m=\u001b[0m \u001b[0;34m{\u001b[0m\u001b[0;34m}\u001b[0m\u001b[0;34m\u001b[0m\u001b[0;34m\u001b[0m\u001b[0m\n\u001b[1;32m     12\u001b[0m         \u001b[0mself\u001b[0m\u001b[0;34m.\u001b[0m\u001b[0mret\u001b[0m \u001b[0;34m=\u001b[0m \u001b[0;34m{\u001b[0m\u001b[0;34m}\u001b[0m\u001b[0;34m\u001b[0m\u001b[0;34m\u001b[0m\u001b[0m\n",
      "\u001b[0;31mNameError\u001b[0m: name 'ncam' is not defined"
     ]
    }
   ],
   "source": [
    "App(tkinter.Tk(), \"Brain Cam\",0,2)"
   ]
  },
  {
   "cell_type": "code",
   "execution_count": 3,
   "id": "divine-rugby",
   "metadata": {},
   "outputs": [
    {
     "name": "stdout",
     "output_type": "stream",
     "text": [
      "The availale ports are: 0 and listed below...\n",
      "[]\n"
     ]
    },
    {
     "name": "stderr",
     "output_type": "stream",
     "text": [
      "[ WARN:0] global /home/conda/feedstock_root/build_artifacts/libopencv_1630689583740/work/modules/videoio/src/cap_v4l.cpp (890) open VIDEOIO(V4L2:/dev/video0): can't open camera by index\n",
      "[ WARN:0] global /home/conda/feedstock_root/build_artifacts/libopencv_1630689583740/work/modules/videoio/src/cap_v4l.cpp (890) open VIDEOIO(V4L2:/dev/video1): can't open camera by index\n",
      "[ WARN:0] global /home/conda/feedstock_root/build_artifacts/libopencv_1630689583740/work/modules/videoio/src/cap_v4l.cpp (890) open VIDEOIO(V4L2:/dev/video2): can't open camera by index\n",
      "[ WARN:0] global /home/conda/feedstock_root/build_artifacts/libopencv_1630689583740/work/modules/videoio/src/cap_v4l.cpp (890) open VIDEOIO(V4L2:/dev/video3): can't open camera by index\n",
      "[ WARN:0] global /home/conda/feedstock_root/build_artifacts/libopencv_1630689583740/work/modules/videoio/src/cap_v4l.cpp (890) open VIDEOIO(V4L2:/dev/video4): can't open camera by index\n",
      "[ WARN:0] global /home/conda/feedstock_root/build_artifacts/libopencv_1630689583740/work/modules/videoio/src/cap_v4l.cpp (890) open VIDEOIO(V4L2:/dev/video5): can't open camera by index\n",
      "[ WARN:0] global /home/conda/feedstock_root/build_artifacts/libopencv_1630689583740/work/modules/videoio/src/cap_v4l.cpp (890) open VIDEOIO(V4L2:/dev/video6): can't open camera by index\n",
      "[ WARN:0] global /home/conda/feedstock_root/build_artifacts/libopencv_1630689583740/work/modules/videoio/src/cap_v4l.cpp (890) open VIDEOIO(V4L2:/dev/video7): can't open camera by index\n",
      "[ WARN:0] global /home/conda/feedstock_root/build_artifacts/libopencv_1630689583740/work/modules/videoio/src/cap_v4l.cpp (890) open VIDEOIO(V4L2:/dev/video8): can't open camera by index\n",
      "[ WARN:0] global /home/conda/feedstock_root/build_artifacts/libopencv_1630689583740/work/modules/videoio/src/cap_v4l.cpp (890) open VIDEOIO(V4L2:/dev/video9): can't open camera by index\n",
      "[ WARN:0] global /home/conda/feedstock_root/build_artifacts/libopencv_1630689583740/work/modules/videoio/src/cap_v4l.cpp (890) open VIDEOIO(V4L2:/dev/video10): can't open camera by index\n",
      "[ WARN:0] global /home/conda/feedstock_root/build_artifacts/libopencv_1630689583740/work/modules/videoio/src/cap_v4l.cpp (890) open VIDEOIO(V4L2:/dev/video11): can't open camera by index\n",
      "[ WARN:0] global /home/conda/feedstock_root/build_artifacts/libopencv_1630689583740/work/modules/videoio/src/cap_v4l.cpp (890) open VIDEOIO(V4L2:/dev/video12): can't open camera by index\n",
      "[ WARN:0] global /home/conda/feedstock_root/build_artifacts/libopencv_1630689583740/work/modules/videoio/src/cap_v4l.cpp (890) open VIDEOIO(V4L2:/dev/video13): can't open camera by index\n",
      "[ WARN:0] global /home/conda/feedstock_root/build_artifacts/libopencv_1630689583740/work/modules/videoio/src/cap_v4l.cpp (890) open VIDEOIO(V4L2:/dev/video14): can't open camera by index\n",
      "[ WARN:0] global /home/conda/feedstock_root/build_artifacts/libopencv_1630689583740/work/modules/videoio/src/cap_v4l.cpp (890) open VIDEOIO(V4L2:/dev/video15): can't open camera by index\n",
      "[ WARN:0] global /home/conda/feedstock_root/build_artifacts/libopencv_1630689583740/work/modules/videoio/src/cap_v4l.cpp (890) open VIDEOIO(V4L2:/dev/video16): can't open camera by index\n",
      "[ WARN:0] global /home/conda/feedstock_root/build_artifacts/libopencv_1630689583740/work/modules/videoio/src/cap_v4l.cpp (890) open VIDEOIO(V4L2:/dev/video17): can't open camera by index\n",
      "[ WARN:0] global /home/conda/feedstock_root/build_artifacts/libopencv_1630689583740/work/modules/videoio/src/cap_v4l.cpp (890) open VIDEOIO(V4L2:/dev/video18): can't open camera by index\n",
      "[ WARN:0] global /home/conda/feedstock_root/build_artifacts/libopencv_1630689583740/work/modules/videoio/src/cap_v4l.cpp (890) open VIDEOIO(V4L2:/dev/video19): can't open camera by index\n",
      "[ WARN:0] global /home/conda/feedstock_root/build_artifacts/libopencv_1630689583740/work/modules/videoio/src/cap_v4l.cpp (890) open VIDEOIO(V4L2:/dev/video20): can't open camera by index\n",
      "[ WARN:0] global /home/conda/feedstock_root/build_artifacts/libopencv_1630689583740/work/modules/videoio/src/cap_v4l.cpp (890) open VIDEOIO(V4L2:/dev/video21): can't open camera by index\n"
     ]
    }
   ],
   "source": [
    "import cv2\n",
    "listport = []\n",
    "camlist = []\n",
    "for i in range(0, 22):\n",
    "    cam=cv2.VideoCapture(i)\n",
    "    \n",
    "    if cam.isOpened():\n",
    "        listport.append(i)\n",
    "        camlist.append(cam)\n",
    "    cam.release()\n",
    "print(\"The availale ports are: {} and listed below...\".format(len(listport)))\n",
    "print(str(listport))\n"
   ]
  },
  {
   "cell_type": "code",
   "execution_count": 2,
   "id": "detailed-hierarchy",
   "metadata": {},
   "outputs": [
    {
     "data": {
      "text/plain": [
       "[1, 5]"
      ]
     },
     "execution_count": 2,
     "metadata": {},
     "output_type": "execute_result"
    }
   ],
   "source": [
    "listport"
   ]
  },
  {
   "cell_type": "code",
   "execution_count": 3,
   "id": "explicit-array",
   "metadata": {},
   "outputs": [
    {
     "data": {
      "text/plain": [
       "<VideoCapture 0x7f73de3c3410>"
      ]
     },
     "execution_count": 3,
     "metadata": {},
     "output_type": "execute_result"
    }
   ],
   "source": [
    "cam"
   ]
  },
  {
   "cell_type": "code",
   "execution_count": 4,
   "id": "controlling-patient",
   "metadata": {},
   "outputs": [
    {
     "data": {
      "text/plain": [
       "[<VideoCapture 0x7f73de3c3430>, <VideoCapture 0x7f73de3c3470>]"
      ]
     },
     "execution_count": 4,
     "metadata": {},
     "output_type": "execute_result"
    }
   ],
   "source": [
    "camlist"
   ]
  },
  {
   "cell_type": "markdown",
   "id": "level-piano",
   "metadata": {},
   "source": [
    "# Final Multi Camera Capture"
   ]
  },
  {
   "cell_type": "markdown",
   "id": "civic-shipping",
   "metadata": {},
   "source": [
    "## Code to get the available ports (currently on)\n",
    "Note that you should quickly close the camera ports after capturing as the camera heat up pretty quickly"
   ]
  },
  {
   "cell_type": "code",
   "execution_count": 1,
   "id": "southeast-alpha",
   "metadata": {},
   "outputs": [
    {
     "name": "stderr",
     "output_type": "stream",
     "text": [
      "[ WARN:0] global /home/conda/feedstock_root/build_artifacts/libopencv_1630689583740/work/modules/videoio/src/cap_v4l.cpp (890) open VIDEOIO(V4L2:/dev/video1): can't open camera by index\n",
      "[ WARN:0] global /home/conda/feedstock_root/build_artifacts/libopencv_1630689583740/work/modules/videoio/src/cap_v4l.cpp (890) open VIDEOIO(V4L2:/dev/video3): can't open camera by index\n",
      "[ WARN:0] global /home/conda/feedstock_root/build_artifacts/libopencv_1630689583740/work/modules/videoio/src/cap_v4l.cpp (890) open VIDEOIO(V4L2:/dev/video5): can't open camera by index\n",
      "[ WARN:0] global /home/conda/feedstock_root/build_artifacts/libopencv_1630689583740/work/modules/videoio/src/cap_v4l.cpp (890) open VIDEOIO(V4L2:/dev/video7): can't open camera by index\n",
      "[ WARN:0] global /home/conda/feedstock_root/build_artifacts/libopencv_1630689583740/work/modules/videoio/src/cap_v4l.cpp (890) open VIDEOIO(V4L2:/dev/video9): can't open camera by index\n",
      "[ WARN:0] global /home/conda/feedstock_root/build_artifacts/libopencv_1630689583740/work/modules/videoio/src/cap_v4l.cpp (890) open VIDEOIO(V4L2:/dev/video11): can't open camera by index\n",
      "[ WARN:0] global /home/conda/feedstock_root/build_artifacts/libopencv_1630689583740/work/modules/videoio/src/cap_v4l.cpp (890) open VIDEOIO(V4L2:/dev/video13): can't open camera by index\n"
     ]
    },
    {
     "name": "stdout",
     "output_type": "stream",
     "text": [
      "The availale ports are: 9 and listed below...\n",
      "[0, 2, 4, 6, 8, 10, 12, 14, 16]\n"
     ]
    },
    {
     "name": "stderr",
     "output_type": "stream",
     "text": [
      "[ WARN:0] global /home/conda/feedstock_root/build_artifacts/libopencv_1630689583740/work/modules/videoio/src/cap_v4l.cpp (890) open VIDEOIO(V4L2:/dev/video15): can't open camera by index\n",
      "[ WARN:0] global /home/conda/feedstock_root/build_artifacts/libopencv_1630689583740/work/modules/videoio/src/cap_v4l.cpp (890) open VIDEOIO(V4L2:/dev/video17): can't open camera by index\n",
      "[ WARN:0] global /home/conda/feedstock_root/build_artifacts/libopencv_1630689583740/work/modules/videoio/src/cap_v4l.cpp (890) open VIDEOIO(V4L2:/dev/video18): can't open camera by index\n",
      "[ WARN:0] global /home/conda/feedstock_root/build_artifacts/libopencv_1630689583740/work/modules/videoio/src/cap_v4l.cpp (890) open VIDEOIO(V4L2:/dev/video19): can't open camera by index\n",
      "[ WARN:0] global /home/conda/feedstock_root/build_artifacts/libopencv_1630689583740/work/modules/videoio/src/cap_v4l.cpp (890) open VIDEOIO(V4L2:/dev/video20): can't open camera by index\n",
      "[ WARN:0] global /home/conda/feedstock_root/build_artifacts/libopencv_1630689583740/work/modules/videoio/src/cap_v4l.cpp (890) open VIDEOIO(V4L2:/dev/video21): can't open camera by index\n"
     ]
    }
   ],
   "source": [
    "import cv2\n",
    "listport = []\n",
    "camlist = []\n",
    "for i in range(0, 22):\n",
    "    cam=cv2.VideoCapture(i)\n",
    "    \n",
    "    if cam.isOpened():\n",
    "        listport.append(i)\n",
    "        camlist.append(cam)\n",
    "    cam.release()\n",
    "print(\"The availale ports are: {} and listed below...\".format(len(listport)))\n",
    "print(str(listport))\n"
   ]
  },
  {
   "cell_type": "code",
   "execution_count": 3,
   "id": "complimentary-productivity",
   "metadata": {},
   "outputs": [
    {
     "ename": "NameError",
     "evalue": "name 'listport' is not defined",
     "output_type": "error",
     "traceback": [
      "\u001b[0;31m---------------------------------------------------------------------------\u001b[0m",
      "\u001b[0;31mNameError\u001b[0m                                 Traceback (most recent call last)",
      "\u001b[0;32m/tmp/ipykernel_9592/1571311079.py\u001b[0m in \u001b[0;36m<module>\u001b[0;34m\u001b[0m\n\u001b[0;32m----> 1\u001b[0;31m \u001b[0mlistport\u001b[0m\u001b[0;34m\u001b[0m\u001b[0;34m\u001b[0m\u001b[0m\n\u001b[0m",
      "\u001b[0;31mNameError\u001b[0m: name 'listport' is not defined"
     ]
    }
   ],
   "source": [
    "listport"
   ]
  },
  {
   "cell_type": "code",
   "execution_count": null,
   "id": "798ca901-2710-4cb0-bb76-ce386b3fdc88",
   "metadata": {},
   "outputs": [],
   "source": [
    "camlist"
   ]
  },
  {
   "cell_type": "code",
   "execution_count": 2,
   "id": "abroad-mapping",
   "metadata": {},
   "outputs": [],
   "source": [
    "import tkinter\n",
    "import cv2\n",
    "import PIL.Image, PIL.ImageTk\n",
    "import time \n",
    "\n",
    "class App:\n",
    "    def __init__(self, window, window_title, video_source_start, ncam, ncamlist):\n",
    "        self.window = window\n",
    "        self.window.title(window_title)\n",
    "        self.ncam = ncam\n",
    "        self.vid = {}\n",
    "        self.ret = {}\n",
    "        self.frame = {}\n",
    "        self.e = {}\n",
    "        #self.video_source_start = video_source_start\n",
    "        self.photo = {}\n",
    "        self.imgtemp = {}\n",
    "        self.ncamlist = ncamlist\n",
    "        \n",
    "        #for i in range(0, video_source_start+ncam):\n",
    "            #self.video_source = video_source\n",
    "        # Add labels inside the software such that the camera takes input positions from the fields.\n",
    "        # 3x3 grid\n",
    "        col1 = [1, 2, 3, 1, 2, 3, 1, 2, 3] \n",
    "        row1 = [1, 1, 1, 3, 3, 3, 5, 5, 5] \n",
    "        row2 = [0, 0, 0, 2, 2, 2, 4, 4, 4]\n",
    "        colspan = [1, 1, 1, 1, 1, 1, 1, 1, 1]\n",
    "        for i in range(len(self.ncamlist)):\n",
    "            self.e[str(i)] = tkinter.Entry(self.window, width = 35, borderwidth = 5)\n",
    "            self.e[str(i)].grid(row = row1[i] , column = col1[i], columnspan = colspan[i])\n",
    "            self.e[str(i)].insert(\"end\",i)\n",
    "            #self.e[str(i)].pack()\n",
    "        \n",
    "      # open video source (by default this will try to open the computer webcam)\n",
    "        for i in range(len(self.ncamlist)):\n",
    "            self.vid[str(i)] = MyVideoCapture(self.ncamlist[i])\n",
    "        #self.vid[''] = self.vid['0']  \n",
    "          \n",
    "      \n",
    "                \n",
    "      # Create a canvas that can fit the above video source size\n",
    "        #self.canvas = tkinter.Canvas(window, width = self.vid['0'].width, height = self.vid['0'].height)\n",
    "        self.canvas = tkinter.Canvas(window, width = 750, height = 750)\n",
    "        self.canvas.grid(row = 0, column = 0)\n",
    "        #self.canvas.pack()\n",
    "        \n",
    "       # Button that lets the user take a snapshot\n",
    "        self.btn_snapshot=tkinter.Button(window, text=\"Snapshot\", width=50, command=self.snapshot)\n",
    "        #self.btn_snapshot.pack(anchor=tkinter.CENTER, expand=True)\n",
    "        self.btn_snapshot.grid(row =6, column = 1, columnspan = 3 )\n",
    "       # After it is called once, the update method will be automatically called every delay milliseconds\n",
    "        self.delay = 15\n",
    "        self.update()\n",
    "        self.window.mainloop()\n",
    "\n",
    "    def snapshot(self):\n",
    "        # Get a frame from the video source\n",
    "        for i in range(len(self.ncamlist)):\n",
    "            self.ret[str(i)], self.frame[str(i)] = self.vid[str(i)].get_frame()\n",
    "            \n",
    "        for i in range(len(self.ncamlist)):\n",
    "            if self.ret[str(i)]:\n",
    "                cv2.imwrite(\"frame\"+str(i)+ time.strftime(\"%d-%m-%Y-%H-%M-%S\") + \".jpg\", cv2.cvtColor(self.frame[str(i)], cv2.COLOR_RGB2BGR))\n",
    "            \n",
    "\n",
    "    def update(self):\n",
    "        # Get a frame from the video source\n",
    "        \n",
    "        x = [0, 250, 500, 0, 250, 500, 0, 250, 500]\n",
    "        y = [0, 0, 0, 250, 250, 250, 500, 500, 500]\n",
    "        \n",
    "        for i in range(len(self.ncamlist)):\n",
    "            self.ret[str(i)], self.frame[str(i)] = self.vid[self.e[str(i)].get()].get_frame()\n",
    "        imgtemp = {}\n",
    "        for i in range(len(self.ncamlist)):\n",
    "            \n",
    "            if self.ret[str(i)]:\n",
    "                self.imgtemp[str(i)] = PIL.Image.fromarray(self.frame[str(i)])\n",
    "                self.imgtemp[str(i)] = self.imgtemp[str(i)].resize((250, 250), PIL.Image.ANTIALIAS)\n",
    "                self.photo[str(i)] = PIL.ImageTk.PhotoImage(image = self.imgtemp[str(i)])\n",
    "                #self.photo = self.photo.resize((250, 250), Image.ANTIALIAS)\n",
    "                self.canvas.create_image(x[i], y[i], image = self.photo[str(i)], anchor = tkinter.NW)\n",
    "        \n",
    "        self.window.after(self.delay, self.update)\n",
    " \n",
    " \n",
    "class MyVideoCapture:\n",
    "     def __init__(self, video_source):\n",
    "        # Open the video source\n",
    "        self.vid = cv2.VideoCapture(video_source)\n",
    "        #if not self.vid.isOpened():\n",
    "             #raise ValueError(\"Unable to open video source\", video_source)\n",
    " \n",
    "        # Get video source width and height\n",
    "        self.width = self.vid.get(cv2.CAP_PROP_FRAME_WIDTH)\n",
    "        self.height = self.vid.get(cv2.CAP_PROP_FRAME_HEIGHT)\n",
    " \n",
    "     def get_frame(self):\n",
    "        if self.vid.isOpened():\n",
    "            ret, frame = self.vid.read()\n",
    "            if ret:\n",
    "                # Return a boolean success flag and the current frame converted to BGR\n",
    "                return (ret, cv2.cvtColor(frame, cv2.COLOR_BGR2RGB))\n",
    "            else:\n",
    "                return (ret, None)\n",
    "        else:\n",
    "             return (ret, None)\n",
    " \n",
    "     # Release the video source when the object is destroyed\n",
    "     def __del__(self):\n",
    "        if self.vid.isOpened():\n",
    "            self.vid.release()\n",
    " \n",
    " # Create a window and pass it to the Application object"
   ]
  },
  {
   "cell_type": "code",
   "execution_count": 2,
   "id": "971bbf63-ae12-40a8-9eb9-65de6b63a8a6",
   "metadata": {},
   "outputs": [],
   "source": [
    "listport = [0,2,4,6,8,10,12,14]"
   ]
  },
  {
   "cell_type": "code",
   "execution_count": 4,
   "id": "smart-archives",
   "metadata": {},
   "outputs": [
    {
     "name": "stderr",
     "output_type": "stream",
     "text": [
      "[ WARN:0] global /home/conda/feedstock_root/build_artifacts/libopencv_1630689583740/work/modules/videoio/src/cap_v4l.cpp (890) open VIDEOIO(V4L2:/dev/video0): can't open camera by index\n",
      "[ WARN:0] global /home/conda/feedstock_root/build_artifacts/libopencv_1630689583740/work/modules/videoio/src/cap_v4l.cpp (890) open VIDEOIO(V4L2:/dev/video2): can't open camera by index\n",
      "[ WARN:0] global /home/conda/feedstock_root/build_artifacts/libopencv_1630689583740/work/modules/videoio/src/cap_v4l.cpp (890) open VIDEOIO(V4L2:/dev/video4): can't open camera by index\n",
      "[ WARN:0] global /home/conda/feedstock_root/build_artifacts/libopencv_1630689583740/work/modules/videoio/src/cap_v4l.cpp (890) open VIDEOIO(V4L2:/dev/video6): can't open camera by index\n",
      "[ WARN:0] global /home/conda/feedstock_root/build_artifacts/libopencv_1630689583740/work/modules/videoio/src/cap_v4l.cpp (890) open VIDEOIO(V4L2:/dev/video8): can't open camera by index\n",
      "[ WARN:0] global /home/conda/feedstock_root/build_artifacts/libopencv_1630689583740/work/modules/videoio/src/cap_v4l.cpp (890) open VIDEOIO(V4L2:/dev/video10): can't open camera by index\n",
      "[ WARN:0] global /home/conda/feedstock_root/build_artifacts/libopencv_1630689583740/work/modules/videoio/src/cap_v4l.cpp (890) open VIDEOIO(V4L2:/dev/video12): can't open camera by index\n",
      "[ WARN:0] global /home/conda/feedstock_root/build_artifacts/libopencv_1630689583740/work/modules/videoio/src/cap_v4l.cpp (890) open VIDEOIO(V4L2:/dev/video14): can't open camera by index\n",
      "[ WARN:0] global /home/conda/feedstock_root/build_artifacts/libopencv_1630689583740/work/modules/videoio/src/cap_v4l.cpp (890) open VIDEOIO(V4L2:/dev/video16): can't open camera by index\n"
     ]
    },
    {
     "ename": "UnboundLocalError",
     "evalue": "local variable 'ret' referenced before assignment",
     "output_type": "error",
     "traceback": [
      "\u001b[0;31m---------------------------------------------------------------------------\u001b[0m",
      "\u001b[0;31mUnboundLocalError\u001b[0m                         Traceback (most recent call last)",
      "\u001b[0;32m/tmp/ipykernel_18355/2049874959.py\u001b[0m in \u001b[0;36m<module>\u001b[0;34m\u001b[0m\n\u001b[0;32m----> 1\u001b[0;31m \u001b[0mApp\u001b[0m\u001b[0;34m(\u001b[0m\u001b[0mtkinter\u001b[0m\u001b[0;34m.\u001b[0m\u001b[0mTk\u001b[0m\u001b[0;34m(\u001b[0m\u001b[0;34m)\u001b[0m\u001b[0;34m,\u001b[0m \u001b[0;34m\"Brain Cam\"\u001b[0m\u001b[0;34m,\u001b[0m\u001b[0;36m0\u001b[0m\u001b[0;34m,\u001b[0m\u001b[0;36m9\u001b[0m\u001b[0;34m,\u001b[0m\u001b[0mlistport\u001b[0m\u001b[0;34m)\u001b[0m\u001b[0;34m\u001b[0m\u001b[0;34m\u001b[0m\u001b[0m\n\u001b[0m",
      "\u001b[0;32m/tmp/ipykernel_18355/441202039.py\u001b[0m in \u001b[0;36m__init__\u001b[0;34m(self, window, window_title, video_source_start, ncam, ncamlist)\u001b[0m\n\u001b[1;32m     51\u001b[0m        \u001b[0;31m# After it is called once, the update method will be automatically called every delay milliseconds\u001b[0m\u001b[0;34m\u001b[0m\u001b[0;34m\u001b[0m\u001b[0m\n\u001b[1;32m     52\u001b[0m         \u001b[0mself\u001b[0m\u001b[0;34m.\u001b[0m\u001b[0mdelay\u001b[0m \u001b[0;34m=\u001b[0m \u001b[0;36m15\u001b[0m\u001b[0;34m\u001b[0m\u001b[0;34m\u001b[0m\u001b[0m\n\u001b[0;32m---> 53\u001b[0;31m         \u001b[0mself\u001b[0m\u001b[0;34m.\u001b[0m\u001b[0mupdate\u001b[0m\u001b[0;34m(\u001b[0m\u001b[0;34m)\u001b[0m\u001b[0;34m\u001b[0m\u001b[0;34m\u001b[0m\u001b[0m\n\u001b[0m\u001b[1;32m     54\u001b[0m         \u001b[0mself\u001b[0m\u001b[0;34m.\u001b[0m\u001b[0mwindow\u001b[0m\u001b[0;34m.\u001b[0m\u001b[0mmainloop\u001b[0m\u001b[0;34m(\u001b[0m\u001b[0;34m)\u001b[0m\u001b[0;34m\u001b[0m\u001b[0;34m\u001b[0m\u001b[0m\n\u001b[1;32m     55\u001b[0m \u001b[0;34m\u001b[0m\u001b[0m\n",
      "\u001b[0;32m/tmp/ipykernel_18355/441202039.py\u001b[0m in \u001b[0;36mupdate\u001b[0;34m(self)\u001b[0m\n\u001b[1;32m     71\u001b[0m \u001b[0;34m\u001b[0m\u001b[0m\n\u001b[1;32m     72\u001b[0m         \u001b[0;32mfor\u001b[0m \u001b[0mi\u001b[0m \u001b[0;32min\u001b[0m \u001b[0mrange\u001b[0m\u001b[0;34m(\u001b[0m\u001b[0mlen\u001b[0m\u001b[0;34m(\u001b[0m\u001b[0mself\u001b[0m\u001b[0;34m.\u001b[0m\u001b[0mncamlist\u001b[0m\u001b[0;34m)\u001b[0m\u001b[0;34m)\u001b[0m\u001b[0;34m:\u001b[0m\u001b[0;34m\u001b[0m\u001b[0;34m\u001b[0m\u001b[0m\n\u001b[0;32m---> 73\u001b[0;31m             \u001b[0mself\u001b[0m\u001b[0;34m.\u001b[0m\u001b[0mret\u001b[0m\u001b[0;34m[\u001b[0m\u001b[0mstr\u001b[0m\u001b[0;34m(\u001b[0m\u001b[0mi\u001b[0m\u001b[0;34m)\u001b[0m\u001b[0;34m]\u001b[0m\u001b[0;34m,\u001b[0m \u001b[0mself\u001b[0m\u001b[0;34m.\u001b[0m\u001b[0mframe\u001b[0m\u001b[0;34m[\u001b[0m\u001b[0mstr\u001b[0m\u001b[0;34m(\u001b[0m\u001b[0mi\u001b[0m\u001b[0;34m)\u001b[0m\u001b[0;34m]\u001b[0m \u001b[0;34m=\u001b[0m \u001b[0mself\u001b[0m\u001b[0;34m.\u001b[0m\u001b[0mvid\u001b[0m\u001b[0;34m[\u001b[0m\u001b[0mself\u001b[0m\u001b[0;34m.\u001b[0m\u001b[0me\u001b[0m\u001b[0;34m[\u001b[0m\u001b[0mstr\u001b[0m\u001b[0;34m(\u001b[0m\u001b[0mi\u001b[0m\u001b[0;34m)\u001b[0m\u001b[0;34m]\u001b[0m\u001b[0;34m.\u001b[0m\u001b[0mget\u001b[0m\u001b[0;34m(\u001b[0m\u001b[0;34m)\u001b[0m\u001b[0;34m]\u001b[0m\u001b[0;34m.\u001b[0m\u001b[0mget_frame\u001b[0m\u001b[0;34m(\u001b[0m\u001b[0;34m)\u001b[0m\u001b[0;34m\u001b[0m\u001b[0;34m\u001b[0m\u001b[0m\n\u001b[0m\u001b[1;32m     74\u001b[0m         \u001b[0mimgtemp\u001b[0m \u001b[0;34m=\u001b[0m \u001b[0;34m{\u001b[0m\u001b[0;34m}\u001b[0m\u001b[0;34m\u001b[0m\u001b[0;34m\u001b[0m\u001b[0m\n\u001b[1;32m     75\u001b[0m         \u001b[0;32mfor\u001b[0m \u001b[0mi\u001b[0m \u001b[0;32min\u001b[0m \u001b[0mrange\u001b[0m\u001b[0;34m(\u001b[0m\u001b[0mlen\u001b[0m\u001b[0;34m(\u001b[0m\u001b[0mself\u001b[0m\u001b[0;34m.\u001b[0m\u001b[0mncamlist\u001b[0m\u001b[0;34m)\u001b[0m\u001b[0;34m)\u001b[0m\u001b[0;34m:\u001b[0m\u001b[0;34m\u001b[0m\u001b[0;34m\u001b[0m\u001b[0m\n",
      "\u001b[0;32m/tmp/ipykernel_18355/441202039.py\u001b[0m in \u001b[0;36mget_frame\u001b[0;34m(self)\u001b[0m\n\u001b[1;32m    105\u001b[0m                 \u001b[0;32mreturn\u001b[0m \u001b[0;34m(\u001b[0m\u001b[0mret\u001b[0m\u001b[0;34m,\u001b[0m \u001b[0;32mNone\u001b[0m\u001b[0;34m)\u001b[0m\u001b[0;34m\u001b[0m\u001b[0;34m\u001b[0m\u001b[0m\n\u001b[1;32m    106\u001b[0m         \u001b[0;32melse\u001b[0m\u001b[0;34m:\u001b[0m\u001b[0;34m\u001b[0m\u001b[0;34m\u001b[0m\u001b[0m\n\u001b[0;32m--> 107\u001b[0;31m              \u001b[0;32mreturn\u001b[0m \u001b[0;34m(\u001b[0m\u001b[0mret\u001b[0m\u001b[0;34m,\u001b[0m \u001b[0;32mNone\u001b[0m\u001b[0;34m)\u001b[0m\u001b[0;34m\u001b[0m\u001b[0;34m\u001b[0m\u001b[0m\n\u001b[0m\u001b[1;32m    108\u001b[0m \u001b[0;34m\u001b[0m\u001b[0m\n\u001b[1;32m    109\u001b[0m      \u001b[0;31m# Release the video source when the object is destroyed\u001b[0m\u001b[0;34m\u001b[0m\u001b[0;34m\u001b[0m\u001b[0m\n",
      "\u001b[0;31mUnboundLocalError\u001b[0m: local variable 'ret' referenced before assignment"
     ]
    }
   ],
   "source": [
    "App(tkinter.Tk(), \"Brain Cam\",0,9,listport)"
   ]
  },
  {
   "cell_type": "code",
   "execution_count": 3,
   "id": "proprietary-medicare",
   "metadata": {},
   "outputs": [],
   "source": [
    "import cv2\n",
    "import numpy as np\n",
    "from matplotlib import pyplot as plt\n",
    "ret = []\n",
    "frame = []\n",
    "retframtup = []\n",
    "nstart = 0\n",
    "ncam = 1\n",
    "cam = []\n",
    "\n",
    "ctemp = np.zeros([256, 256])\n",
    "\n",
    "for i in range(nstart,nstart+ncam):\n",
    "\n",
    "    cam.append(cv2.VideoCapture(-3))\n",
    "\n",
    "\n",
    "while(True):\n",
    "\n",
    "    for i in range(0, ncam):\n",
    "\n",
    "        strname = \"cam_{}\".format(str(i))\n",
    "\n",
    "        if list(cam[i].read())[0] == False:\n",
    "\n",
    "            cv2.imshow(\"feed_unavailable\", ctemp)\n",
    "\n",
    "\n",
    "        else:\n",
    "            cv2.imshow(strname, list(cam[i].read())[1])\n",
    "\n",
    "    if cv2.waitKey(1) & 0xFF == ord('q'):\n",
    "        break\n",
    "\n",
    "\n",
    "for i in range(0, ncam):\n",
    "    cam[i].release()\n",
    "\n",
    "cv2.destroyAllWindows()\n"
   ]
  },
  {
   "cell_type": "code",
   "execution_count": 8,
   "id": "75bed5ce-dd37-4771-b099-e3d281e59cf3",
   "metadata": {},
   "outputs": [],
   "source": [
    "import cv2\n",
    "vid = cv2.VideoCapture(6)"
   ]
  },
  {
   "cell_type": "code",
   "execution_count": 9,
   "id": "28103da0-6bef-495c-847a-95cb438f4a01",
   "metadata": {},
   "outputs": [],
   "source": [
    "# import cv2\n",
    "\n",
    "# vid = cv2.VideoCapture(1)\n",
    "\n",
    "while(True):\n",
    "      \n",
    "    # Capture the video frame\n",
    "    # by frame\n",
    "    ret, frame = vid.read()\n",
    "  \n",
    "    # Display the resulting frame\n",
    "    cv2.imshow('frame', frame)\n",
    "      \n",
    "    # the 'q' button is set as the\n",
    "    # quitting button you may use any\n",
    "    # desired button of your choice\n",
    "    if cv2.waitKey(1) & 0xFF == ord('q'):\n",
    "        break\n",
    "  \n",
    "# After the loop release the cap object\n",
    "vid.release()\n",
    "# Destroy all the windows\n",
    "cv2.destroyAllWindows()"
   ]
  },
  {
   "cell_type": "code",
   "execution_count": 16,
   "id": "3eb4f117-ea65-4f2f-b750-c4b1a7fcdf43",
   "metadata": {},
   "outputs": [
    {
     "name": "stdout",
     "output_type": "stream",
     "text": [
      "uid=1000(vinayak) gid=1000(vinayak) groups=1000(vinayak),4(adm),24(cdrom),27(sudo),30(dip),46(plugdev),120(lpadmin),131(lxd),132(sambashare)\n"
     ]
    }
   ],
   "source": [
    "!id -a"
   ]
  },
  {
   "cell_type": "code",
   "execution_count": 19,
   "id": "c6ec03f2-48cf-453b-9204-66fe3c5ebc31",
   "metadata": {},
   "outputs": [
    {
     "data": {
      "text/plain": [
       "[<VideoCapture 0x7f198edde910>]"
      ]
     },
     "execution_count": 19,
     "metadata": {},
     "output_type": "execute_result"
    }
   ],
   "source": [
    "cam"
   ]
  },
  {
   "cell_type": "code",
   "execution_count": 20,
   "id": "80326089-c7ea-4987-b698-9467fff671cf",
   "metadata": {},
   "outputs": [
    {
     "data": {
      "text/plain": [
       "(False, None)"
      ]
     },
     "execution_count": 20,
     "metadata": {},
     "output_type": "execute_result"
    }
   ],
   "source": [
    "cam[0].read()"
   ]
  },
  {
   "cell_type": "code",
   "execution_count": 1,
   "id": "df191f58-7bc2-47a4-8f24-73fba9067bac",
   "metadata": {},
   "outputs": [
    {
     "ename": "NameError",
     "evalue": "name 'cv2' is not defined",
     "output_type": "error",
     "traceback": [
      "\u001b[0;31m---------------------------------------------------------------------------\u001b[0m",
      "\u001b[0;31mNameError\u001b[0m                                 Traceback (most recent call last)",
      "\u001b[0;32m/tmp/ipykernel_9592/2810052172.py\u001b[0m in \u001b[0;36m<module>\u001b[0;34m\u001b[0m\n\u001b[0;32m----> 1\u001b[0;31m \u001b[0mcam1\u001b[0m \u001b[0;34m=\u001b[0m \u001b[0mcv2\u001b[0m\u001b[0;34m.\u001b[0m\u001b[0mVideoCapture\u001b[0m\u001b[0;34m(\u001b[0m\u001b[0;34m-\u001b[0m\u001b[0;36m1\u001b[0m\u001b[0;34m)\u001b[0m\u001b[0;34m\u001b[0m\u001b[0;34m\u001b[0m\u001b[0m\n\u001b[0m",
      "\u001b[0;31mNameError\u001b[0m: name 'cv2' is not defined"
     ]
    }
   ],
   "source": [
    "cam1 = cv2.VideoCapture(-1)"
   ]
  },
  {
   "cell_type": "code",
   "execution_count": 22,
   "id": "20190741-5767-4923-a4f7-1d9ec4b49be1",
   "metadata": {},
   "outputs": [
    {
     "data": {
      "text/plain": [
       "<VideoCapture 0x7f3fce58be30>"
      ]
     },
     "execution_count": 22,
     "metadata": {},
     "output_type": "execute_result"
    }
   ],
   "source": [
    "cam1"
   ]
  },
  {
   "cell_type": "code",
   "execution_count": 23,
   "id": "0ac1f3b0-56ff-4c1e-ab3a-6e7ea9ef4c61",
   "metadata": {},
   "outputs": [
    {
     "data": {
      "text/plain": [
       "(False, None)"
      ]
     },
     "execution_count": 23,
     "metadata": {},
     "output_type": "execute_result"
    }
   ],
   "source": [
    "cam1.read()"
   ]
  },
  {
   "cell_type": "code",
   "execution_count": 11,
   "id": "a9162ecd-4cee-425f-ada7-eb838837cfaf",
   "metadata": {},
   "outputs": [],
   "source": [
    "a = cam1.read()"
   ]
  },
  {
   "cell_type": "code",
   "execution_count": 16,
   "id": "a1fdd5b2-e9aa-4efb-b989-21fb4283a4a8",
   "metadata": {},
   "outputs": [
    {
     "data": {
      "text/plain": [
       "(480, 640, 3)"
      ]
     },
     "execution_count": 16,
     "metadata": {},
     "output_type": "execute_result"
    }
   ],
   "source": [
    "a[1].shape"
   ]
  },
  {
   "cell_type": "code",
   "execution_count": 17,
   "id": "c09d7c4f-d94e-434f-adcc-379493268a16",
   "metadata": {},
   "outputs": [
    {
     "data": {
      "text/plain": [
       "<matplotlib.image.AxesImage at 0x7f3fcc265640>"
      ]
     },
     "execution_count": 17,
     "metadata": {},
     "output_type": "execute_result"
    },
    {
     "data": {
      "image/png": "[encoded data removed]",
      "text/plain": [
       "<Figure size 432x288 with 1 Axes>"
      ]
     },
     "metadata": {
      "needs_background": "light"
     },
     "output_type": "display_data"
    }
   ],
   "source": [
    "import matplotlib.pyplot as plt\n",
    "plt.imshow(a[1])"
   ]
  },
  {
   "cell_type": "code",
   "execution_count": 18,
   "id": "0e3729b0-cda8-4514-b6d0-2d7621f5ae7b",
   "metadata": {},
   "outputs": [],
   "source": [
    "cam1.release()"
   ]
  },
  {
   "cell_type": "code",
   "execution_count": null,
   "id": "ade072ba-6877-47e8-8efb-5fe9c6d29b38",
   "metadata": {},
   "outputs": [],
   "source": []
  }
 ],
 "metadata": {
  "kernelspec": {
   "display_name": "Python 3 (ipykernel)",
   "language": "python",
   "name": "python3"
  },
  "language_info": {
   "codemirror_mode": {
    "name": "ipython",
    "version": 3
   },
   "file_extension": ".py",
   "mimetype": "text/x-python",
   "name": "python",
   "nbconvert_exporter": "python",
   "pygments_lexer": "ipython3",
   "version": "3.9.7"
  }
 },
 "nbformat": 4,
 "nbformat_minor": 5
}
